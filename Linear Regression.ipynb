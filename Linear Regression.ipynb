{
 "cells": [
  {
   "cell_type": "markdown",
   "id": "062f8ed1",
   "metadata": {},
   "source": [
    "## Linear Regression - FROM SCRATCH"
   ]
  },
  {
   "cell_type": "markdown",
   "id": "5412a408",
   "metadata": {},
   "source": [
    "Linear Regression:\n",
    "\n",
    "**Y = wX + b**\n",
    "\n",
    "    Y --> Dependent Variable\n",
    "    X --> Independent Variable\n",
    "    w --> weight\n",
    "    b --> bias"
   ]
  },
  {
   "cell_type": "markdown",
   "id": "c8147e27",
   "metadata": {},
   "source": [
    "**Gradient Descent:**\n",
    "\n",
    "Gradient Descent is an optimization algorithm used for minimizing the loss function in various machine learning algorithms. It is used for updating the parameters of the learning model.\n",
    "\n",
    "    w  =  w - α*dw\n",
    "    b  =  b - α*db"
   ]
  },
  {
   "cell_type": "markdown",
   "id": "7ea35f17",
   "metadata": {},
   "source": [
    "**Learning Rate:**\n",
    "\n",
    "Learning rate is a tuning parameter in an optimization algorithm that determines the step size at each iteration while moving toward a minimum of a loss function."
   ]
  },
  {
   "cell_type": "markdown",
   "id": "cb9b42c2",
   "metadata": {},
   "source": [
    "![dw.png](images/dw.png)"
   ]
  },
  {
   "cell_type": "markdown",
   "id": "94c74a3b",
   "metadata": {},
   "source": [
    "![dw.png](images/db.png)"
   ]
  },
  {
   "cell_type": "markdown",
   "id": "7a1f0ec1",
   "metadata": {},
   "source": [
    "![linearreg-steps.png](images/linearreg-steps.png)"
   ]
  },
  {
   "cell_type": "code",
   "execution_count": 4,
   "id": "da35a5b3",
   "metadata": {},
   "outputs": [],
   "source": [
    "# importing numpy library\n",
    "import numpy as np"
   ]
  },
  {
   "cell_type": "markdown",
   "id": "9a39812d",
   "metadata": {},
   "source": [
    "### Creating Linear Regression Class"
   ]
  },
  {
   "cell_type": "code",
   "execution_count": 5,
   "id": "a1ce6f6f",
   "metadata": {},
   "outputs": [],
   "source": [
    "class Linear_Regression():\n",
    "\n",
    "   def __init__( self, learning_rate, no_of_iterations ):\n",
    "          \n",
    "        self.learning_rate = learning_rate\n",
    "        self.no_of_iterations = no_of_iterations\n",
    "\n",
    "    # fit function to train the model\n",
    "   def fit( self, X, Y ):\n",
    "          \n",
    "        # (m,n) no_of_training_examples, no_of_features \n",
    "        self.m, self.n = X.shape\n",
    "          \n",
    "        # initiating the weight and bias \n",
    "        self.w = np.zeros( self.n )        \n",
    "        self.b = 0\n",
    "        self.X = X\n",
    "        self.Y = Y\n",
    "\n",
    "        # implementing Gradient Descent for Optimization\n",
    "        for i in range( self.no_of_iterations ):   \n",
    "            self.update_weights()   \n",
    "        \n",
    "      \n",
    "    # function to update weights in gradient descent    \n",
    "   def update_weights( self ):  \n",
    "    \n",
    "        Y_prediction = self.predict( self.X )\n",
    "          \n",
    "        # calculate gradients  \n",
    "        dw = - ( 2 * ( self.X.T ).dot( self.Y - Y_prediction )  ) / self.m\n",
    "        db = - 2 * np.sum( self.Y - Y_prediction ) / self.m \n",
    "          \n",
    "        # updating the weights\n",
    "        self.w = self.w - self.learning_rate * dw\n",
    "        self.b = self.b - self.learning_rate * db\n",
    "          \n",
    "    # Line function for prediction:\n",
    "   def predict( self, X ) :\n",
    "      \n",
    "        return X.dot( self.w ) + self.b\n"
   ]
  },
  {
   "cell_type": "markdown",
   "id": "cedc684e",
   "metadata": {},
   "source": [
    "**Using Linear Regression model for Prediction**"
   ]
  },
  {
   "cell_type": "code",
   "execution_count": 6,
   "id": "377191db",
   "metadata": {},
   "outputs": [],
   "source": [
    "# importing the dependencies\n",
    "import pandas as pd\n",
    "from sklearn.model_selection import train_test_split\n",
    "import matplotlib.pyplot as plt"
   ]
  },
  {
   "cell_type": "markdown",
   "id": "c7a23bd9",
   "metadata": {},
   "source": [
    "#### Data Pre-Processing"
   ]
  },
  {
   "cell_type": "code",
   "execution_count": 7,
   "id": "5bd46d2f",
   "metadata": {},
   "outputs": [],
   "source": [
    "# loading the data from csv file to a pandas dataframe\n",
    "\n",
    "salary_data = pd.read_csv('dataset/salary_data.csv')"
   ]
  },
  {
   "cell_type": "code",
   "execution_count": 8,
   "id": "01927497",
   "metadata": {},
   "outputs": [
    {
     "data": {
      "text/html": [
       "<div>\n",
       "<style scoped>\n",
       "    .dataframe tbody tr th:only-of-type {\n",
       "        vertical-align: middle;\n",
       "    }\n",
       "\n",
       "    .dataframe tbody tr th {\n",
       "        vertical-align: top;\n",
       "    }\n",
       "\n",
       "    .dataframe thead th {\n",
       "        text-align: right;\n",
       "    }\n",
       "</style>\n",
       "<table border=\"1\" class=\"dataframe\">\n",
       "  <thead>\n",
       "    <tr style=\"text-align: right;\">\n",
       "      <th></th>\n",
       "      <th>YearsExperience</th>\n",
       "      <th>Salary</th>\n",
       "    </tr>\n",
       "  </thead>\n",
       "  <tbody>\n",
       "    <tr>\n",
       "      <th>0</th>\n",
       "      <td>1.1</td>\n",
       "      <td>39343</td>\n",
       "    </tr>\n",
       "    <tr>\n",
       "      <th>1</th>\n",
       "      <td>1.3</td>\n",
       "      <td>46205</td>\n",
       "    </tr>\n",
       "    <tr>\n",
       "      <th>2</th>\n",
       "      <td>1.5</td>\n",
       "      <td>37731</td>\n",
       "    </tr>\n",
       "    <tr>\n",
       "      <th>3</th>\n",
       "      <td>2.0</td>\n",
       "      <td>43525</td>\n",
       "    </tr>\n",
       "    <tr>\n",
       "      <th>4</th>\n",
       "      <td>2.2</td>\n",
       "      <td>39891</td>\n",
       "    </tr>\n",
       "  </tbody>\n",
       "</table>\n",
       "</div>"
      ],
      "text/plain": [
       "   YearsExperience  Salary\n",
       "0              1.1   39343\n",
       "1              1.3   46205\n",
       "2              1.5   37731\n",
       "3              2.0   43525\n",
       "4              2.2   39891"
      ]
     },
     "execution_count": 8,
     "metadata": {},
     "output_type": "execute_result"
    }
   ],
   "source": [
    "# printing the first 5 columns of the dataframe\n",
    "salary_data.head()"
   ]
  },
  {
   "cell_type": "code",
   "execution_count": 9,
   "id": "5251648e",
   "metadata": {},
   "outputs": [
    {
     "data": {
      "text/plain": [
       "(30, 2)"
      ]
     },
     "execution_count": 9,
     "metadata": {},
     "output_type": "execute_result"
    }
   ],
   "source": [
    "# number of rows & columns in the dataframe\n",
    "salary_data.shape"
   ]
  },
  {
   "cell_type": "code",
   "execution_count": 10,
   "id": "9b61f72a",
   "metadata": {},
   "outputs": [
    {
     "data": {
      "text/plain": [
       "YearsExperience    0\n",
       "Salary             0\n",
       "dtype: int64"
      ]
     },
     "execution_count": 10,
     "metadata": {},
     "output_type": "execute_result"
    }
   ],
   "source": [
    "# checking for missing values\n",
    "salary_data.isnull().sum()"
   ]
  },
  {
   "cell_type": "markdown",
   "id": "0ff4fc98",
   "metadata": {},
   "source": [
    "**Splitting the feature & target**"
   ]
  },
  {
   "cell_type": "code",
   "execution_count": 11,
   "id": "11d03dda",
   "metadata": {},
   "outputs": [],
   "source": [
    "X = salary_data.iloc[:,:-1].values      \n",
    "Y = salary_data.iloc[:,1].values"
   ]
  },
  {
   "cell_type": "code",
   "execution_count": 12,
   "id": "522dee36",
   "metadata": {},
   "outputs": [
    {
     "name": "stdout",
     "output_type": "stream",
     "text": [
      "[[ 1.1]\n",
      " [ 1.3]\n",
      " [ 1.5]\n",
      " [ 2. ]\n",
      " [ 2.2]\n",
      " [ 2.9]\n",
      " [ 3. ]\n",
      " [ 3.2]\n",
      " [ 3.2]\n",
      " [ 3.7]\n",
      " [ 3.9]\n",
      " [ 4. ]\n",
      " [ 4. ]\n",
      " [ 4.1]\n",
      " [ 4.5]\n",
      " [ 4.9]\n",
      " [ 5.1]\n",
      " [ 5.3]\n",
      " [ 5.9]\n",
      " [ 6. ]\n",
      " [ 6.8]\n",
      " [ 7.1]\n",
      " [ 7.9]\n",
      " [ 8.2]\n",
      " [ 8.7]\n",
      " [ 9. ]\n",
      " [ 9.5]\n",
      " [ 9.6]\n",
      " [10.3]\n",
      " [10.5]]\n"
     ]
    }
   ],
   "source": [
    "print(X)"
   ]
  },
  {
   "cell_type": "code",
   "execution_count": 13,
   "id": "0fb86d5d",
   "metadata": {},
   "outputs": [
    {
     "name": "stdout",
     "output_type": "stream",
     "text": [
      "[ 39343  46205  37731  43525  39891  56642  60150  54445  64445  57189\n",
      "  63218  55794  56957  57081  61111  67938  66029  83088  81363  93940\n",
      "  91738  98273 101302 113812 109431 105582 116969 112635 122391 121872]\n"
     ]
    }
   ],
   "source": [
    "print(Y)"
   ]
  },
  {
   "cell_type": "markdown",
   "id": "f5931bff",
   "metadata": {},
   "source": [
    "**Splitting the dataset into training & test data**"
   ]
  },
  {
   "cell_type": "code",
   "execution_count": 14,
   "id": "8873ddb0",
   "metadata": {},
   "outputs": [],
   "source": [
    "X_train, X_test, Y_train, Y_test = train_test_split(X, Y, test_size=0.2, random_state = 2)"
   ]
  },
  {
   "cell_type": "markdown",
   "id": "49c6c6f0",
   "metadata": {},
   "source": [
    "**Training the Linear Regression model**"
   ]
  },
  {
   "cell_type": "code",
   "execution_count": 95,
   "id": "e8fbd197",
   "metadata": {},
   "outputs": [],
   "source": [
    "model = Linear_Regression(learning_rate = 0.0238, no_of_iterations=1700)"
   ]
  },
  {
   "cell_type": "code",
   "execution_count": 96,
   "id": "49637c54",
   "metadata": {},
   "outputs": [],
   "source": [
    "model.fit(X_train, Y_train)"
   ]
  },
  {
   "cell_type": "code",
   "execution_count": 97,
   "id": "65d454c7",
   "metadata": {},
   "outputs": [
    {
     "name": "stdout",
     "output_type": "stream",
     "text": [
      "weight =  9569.587320761899\n",
      "bias =  24393.166096043926\n"
     ]
    }
   ],
   "source": [
    "# printing the parameter values ( weights & bias)\n",
    "\n",
    "print('weight = ', model.w[0])\n",
    "print('bias = ', model.b)"
   ]
  },
  {
   "cell_type": "markdown",
   "id": "f58c2e9c",
   "metadata": {},
   "source": [
    "#### Equation Generated\n",
    "\n",
    "**y** = 9569.61761868669**(x)** + 24392.953411946124\n",
    "\n",
    "**salary** = 9569.61761868669**(experience)** + 24392.953411946124"
   ]
  },
  {
   "cell_type": "markdown",
   "id": "923fb95d",
   "metadata": {},
   "source": [
    "**Predict the salary value for test data**"
   ]
  },
  {
   "cell_type": "code",
   "execution_count": 98,
   "id": "2220f499",
   "metadata": {},
   "outputs": [],
   "source": [
    "test_data_prediction = model.predict(X_test)"
   ]
  },
  {
   "cell_type": "code",
   "execution_count": 99,
   "id": "54d3f6c3",
   "metadata": {},
   "outputs": [
    {
     "name": "stdout",
     "output_type": "stream",
     "text": [
      "[36833.62961303 34919.71214888 67456.30903947 59800.63918286\n",
      " 92337.23607345 81810.69002062]\n"
     ]
    }
   ],
   "source": [
    "print(test_data_prediction)"
   ]
  },
  {
   "cell_type": "markdown",
   "id": "3a68546a",
   "metadata": {},
   "source": [
    "**Visualizing the predicted values & actual Values**"
   ]
  },
  {
   "cell_type": "code",
   "execution_count": 100,
   "id": "b6fb96bb",
   "metadata": {},
   "outputs": [
    {
     "data": {
      "image/png": "[encoded data removed]",
      "text/plain": [
       "<Figure size 432x288 with 1 Axes>"
      ]
     },
     "metadata": {
      "needs_background": "light"
     },
     "output_type": "display_data"
    }
   ],
   "source": [
    "plt.scatter(X_test, Y_test, color = 'red')\n",
    "plt.plot(X_test, test_data_prediction, color='blue')\n",
    "plt.xlabel(' Work Experience')\n",
    "plt.ylabel('Salary')\n",
    "plt.title(' Salary vs Experience')\n",
    "plt.show()"
   ]
  },
  {
   "cell_type": "markdown",
   "id": "10af3eb9",
   "metadata": {},
   "source": [
    "**Accuracy**"
   ]
  },
  {
   "cell_type": "code",
   "execution_count": 101,
   "id": "cd88e21f",
   "metadata": {},
   "outputs": [
    {
     "name": "stdout",
     "output_type": "stream",
     "text": [
      "R squared error :  0.8886956540959012\n",
      "Mean Absolute Error :  6802.78006105838\n"
     ]
    }
   ],
   "source": [
    "from sklearn import metrics\n",
    "\n",
    "# R squared error\n",
    "score_1 = metrics.r2_score(Y_test, test_data_prediction)\n",
    "\n",
    "# Mean Absolute Error\n",
    "score_2 = metrics.mean_absolute_error(Y_test, test_data_prediction)\n",
    "\n",
    "print(\"R squared error : \", score_1)\n",
    "print('Mean Absolute Error : ', score_2)"
   ]
  },
  {
   "cell_type": "markdown",
   "id": "87c5a26b",
   "metadata": {},
   "source": [
    "### Using Sklearn Model"
   ]
  },
  {
   "cell_type": "code",
   "execution_count": 102,
   "id": "68e68ab9",
   "metadata": {},
   "outputs": [],
   "source": [
    "from sklearn import linear_model\n",
    "\n",
    "# Create linear regression object\n",
    "regr = linear_model.LinearRegression()\n",
    "\n",
    "# Train the model using the training sets\n",
    "regr.fit(X_train, Y_train)\n",
    "\n",
    "# Make predictions using the testing set\n",
    "sklearn_prediction = regr.predict(X_test)"
   ]
  },
  {
   "cell_type": "code",
   "execution_count": 103,
   "id": "bd0127de",
   "metadata": {},
   "outputs": [
    {
     "name": "stdout",
     "output_type": "stream",
     "text": [
      "R squared error (sklearn) :  0.8886956733784565\n",
      "Mean Absolute Error (sklearn) :  6802.779572073898\n"
     ]
    }
   ],
   "source": [
    "# R squared error\n",
    "score_1 = metrics.r2_score(Y_test, sklearn_prediction)\n",
    "\n",
    "# Mean Absolute Error\n",
    "score_2 = metrics.mean_absolute_error(Y_test, sklearn_prediction)\n",
    "\n",
    "print(\"R squared error (sklearn) : \", score_1)\n",
    "print('Mean Absolute Error (sklearn) : ', score_2)"
   ]
  },
  {
   "cell_type": "code",
   "execution_count": 24,
   "id": "59f0a1fc",
   "metadata": {},
   "outputs": [
    {
     "data": {
      "image/png": "[encoded data removed]",
      "text/plain": [
       "<Figure size 432x288 with 1 Axes>"
      ]
     },
     "metadata": {
      "needs_background": "light"
     },
     "output_type": "display_data"
    }
   ],
   "source": [
    "plt.scatter(X_test, Y_test, color = 'red')\n",
    "plt.plot(X_test, sklearn_prediction, color='blue')\n",
    "#plt.plot(X_test, test_data_prediction, color='green')\n",
    "plt.xlabel(' Work Experience')\n",
    "plt.ylabel('Salary')\n",
    "plt.title(' Salary vs Experience')\n",
    "plt.show()"
   ]
  },
  {
   "cell_type": "code",
   "execution_count": null,
   "id": "97255b9f",
   "metadata": {},
   "outputs": [],
   "source": []
  },
  {
   "cell_type": "code",
   "execution_count": null,
   "id": "d26c5078",
   "metadata": {},
   "outputs": [],
   "source": []
  }
 ],
 "metadata": {
  "kernelspec": {
   "display_name": "ml-ai",
   "language": "python",
   "name": "ml-ai"
  },
  "language_info": {
   "codemirror_mode": {
    "name": "ipython",
    "version": 3
   },
   "file_extension": ".py",
   "mimetype": "text/x-python",
   "name": "python",
   "nbconvert_exporter": "python",
   "pygments_lexer": "ipython3",
   "version": "3.9.15"
  }
 },
 "nbformat": 4,
 "nbformat_minor": 5
}
